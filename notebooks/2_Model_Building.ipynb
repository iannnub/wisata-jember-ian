{
 "cells": [
  {
   "cell_type": "markdown",
   "id": "e92b4728",
   "metadata": {},
   "source": [
    "Import Library & Konfigurasi Path"
   ]
  },
  {
   "cell_type": "code",
   "execution_count": null,
   "id": "25cff032",
   "metadata": {},
   "outputs": [],
   "source": [
    "# %% [markdown]\n",
    "# # FASE 2: Pembangunan Model Rekomendasi Wisata (TF-IDF + Cosine Similarity)\n",
    "# \n",
    "# **Tujuan:**\n",
    "# 1. Membaca dataset bersih dari `data/processed/`.\n",
    "# 2. Mengubah teks (\"DNA\" wisata) ke dalam bentuk vektor TF-IDF.\n",
    "# 3. Menghitung matriks kemiripan antar semua destinasi.\n",
    "# 4. Menyimpan *artefak* model (vectorizer dan matriks) ke folder `models/` untuk digunakan di aplikasi.\n",
    "\n",
    "# %%\n",
    "# ======================================================\n",
    "# 1️⃣ IMPORT LIBRARY & KONFIGURASI PATH\n",
    "# ======================================================\n",
    "import pandas as pd\n",
    "import pickle\n",
    "from pathlib import Path\n",
    "\n",
    "# Import library scikit-learn\n",
    "from sklearn.feature_extraction.text import TfidfVectorizer\n",
    "from sklearn.metrics.pairwise import cosine_similarity\n",
    "\n",
    "# Inisialisasi path utama\n",
    "BASE_DIR = Path().resolve().parent\n",
    "\n",
    "# Path untuk input & output\n",
    "PROCESSED_DATA_PATH = BASE_DIR / \"data\" / \"processed\" / \"destinasi_processed.csv\"\n",
    "MODELS_DIR = BASE_DIR / \"models\"\n",
    "MODELS_DIR.mkdir(parents=True, exist_ok=True) # Membuat folder jika belum ada\n",
    "\n",
    "print(\"✅ Library dan path berhasil dikonfigurasi.\")"
   ]
  },
  {
   "cell_type": "markdown",
   "id": "37332f17",
   "metadata": {},
   "source": [
    "Memuat Dataset yang Sudah Diproses"
   ]
  },
  {
   "cell_type": "code",
   "execution_count": null,
   "id": "aebde2ba",
   "metadata": {},
   "outputs": [],
   "source": [
    "# %% [markdown]\n",
    "# ## 2. Memuat Dataset yang Sudah Diproses\n",
    "# \n",
    "# Kita akan menggunakan file `destinasi_processed.csv` yang telah kita siapkan di Fase 1.\n",
    "\n",
    "# %%\n",
    "# ======================================================\n",
    "# 2️⃣ MEMUAT DATASET BERSIH\n",
    "# ======================================================\n",
    "try:\n",
    "    df = pd.read_csv(PROCESSED_DATA_PATH)\n",
    "    print(f\"✅ Dataset berhasil dimuat dari '{PROCESSED_DATA_PATH.name}'\")\n",
    "    print(f\"Jumlah baris: {len(df)}, Jumlah kolom: {len(df.columns)}\\n\")\n",
    "except FileNotFoundError:\n",
    "    raise FileNotFoundError(f\"❌ File '{PROCESSED_DATA_PATH.name}' tidak ditemukan. Pastikan Anda sudah menjalankan notebook Fase 1 terlebih dahulu.\")\n",
    "\n",
    "# Pastikan kolom 'fitur_bersih' tidak kosong\n",
    "df['fitur_bersih'] = df['fitur_bersih'].fillna('')\n",
    "\n",
    "# Tampilkan beberapa contoh data untuk verifikasi\n",
    "df[['id', 'nama_wisata', 'fitur_bersih']].head()"
   ]
  },
  {
   "cell_type": "markdown",
   "id": "7022b6aa",
   "metadata": {},
   "source": [
    "Membuat Representasi TF-IDF"
   ]
  },
  {
   "cell_type": "code",
   "execution_count": null,
   "id": "e73840b6",
   "metadata": {},
   "outputs": [],
   "source": [
    "# %% [markdown]\n",
    "# ## 3. Membuat Representasi TF-IDF\n",
    "# \n",
    "# TF-IDF (Term Frequency-Inverse Document Frequency) akan mengubah setiap \"DNA\" teks menjadi sebuah vektor angka. Vektor ini merepresentasikan pentingnya setiap kata dalam konteks seluruh dataset.\n",
    "\n",
    "# %%\n",
    "# ======================================================\n",
    "# 3️⃣ MEMBUAT VEKTOR TF-IDF\n",
    "# ======================================================\n",
    "# Inisialisasi TF-IDF Vectorizer\n",
    "tfidf = TfidfVectorizer(\n",
    "    ngram_range=(1, 2),    # ⭐ PENYEMPURNAAN: Mempertimbangkan frasa 2 kata (misal: \"pasir putih\") selain kata tunggal.\n",
    "    max_features=5000      # Membatasi jumlah fitur (kata/frasa) agar efisien\n",
    ")\n",
    "\n",
    "# Latih TF-IDF pada data teks dan ubah teks ke dalam bentuk matriks\n",
    "tfidf_matrix = tfidf.fit_transform(df['fitur_bersih'])\n",
    "\n",
    "print(\"✅ Matriks TF-IDF berhasil dibuat.\")\n",
    "print(f\"Ukuran matriks: {tfidf_matrix.shape} (artinya ada {tfidf_matrix.shape[0]} destinasi dan {tfidf_matrix.shape[1]} fitur kata/frasa unik)\")"
   ]
  },
  {
   "cell_type": "markdown",
   "id": "bc87508d",
   "metadata": {},
   "source": [
    "Menghitung Cosine Similarity"
   ]
  },
  {
   "cell_type": "code",
   "execution_count": null,
   "id": "3f345169",
   "metadata": {},
   "outputs": [],
   "source": [
    "# %% [markdown]\n",
    "# ## 4. Menghitung Cosine Similarity\n",
    "# \n",
    "# Setelah memiliki representasi vektor untuk setiap destinasi, kita akan menghitung \"jarak\" atau kemiripan antar vektor tersebut menggunakan Cosine Similarity. Hasilnya adalah sebuah matriks di mana setiap sel `(i, j)` berisi skor kemiripan antara destinasi `i` dan `j`.\n",
    "\n",
    "# %%\n",
    "# ======================================================\n",
    "# 4️⃣ MENGHITUNG MATRIKS KEMIRIPAN\n",
    "# ======================================================\n",
    "similarity_matrix = cosine_similarity(tfidf_matrix, tfidf_matrix)\n",
    "\n",
    "print(\"✅ Matriks kemiripan (cosine similarity) berhasil dihitung.\")\n",
    "print(f\"Dimensi matriks: {similarity_matrix.shape}\")"
   ]
  },
  {
   "cell_type": "markdown",
   "id": "1703bd2b",
   "metadata": {},
   "source": [
    "Menyimpan Model dan Matriks"
   ]
  },
  {
   "cell_type": "code",
   "execution_count": null,
   "id": "e98f62c1",
   "metadata": {},
   "outputs": [],
   "source": [
    "# %% [markdown]\n",
    "# ## 5. Menyimpan Artefak Model\n",
    "# \n",
    "# Kita menyimpan `TfidfVectorizer` dan `similarity_matrix` agar bisa digunakan kembali oleh aplikasi Streamlit tanpa perlu melatih ulang. Ini adalah inti dari fase \"Offline Training\".\n",
    "\n",
    "# %%\n",
    "# ======================================================\n",
    "# 5️⃣ MENYIMPAN MODEL & MATRIKS\n",
    "# ======================================================\n",
    "# Simpan TF-IDF vectorizer\n",
    "with open(MODELS_DIR / \"tfidf_vectorizer.pkl\", \"wb\") as f:\n",
    "    pickle.dump(tfidf, f)\n",
    "print(f\"💾 TF-IDF Vectorizer berhasil disimpan di: {MODELS_DIR / 'tfidf_vectorizer.pkl'}\")\n",
    "\n",
    "# Simpan similarity matrix\n",
    "with open(MODELS_DIR / \"similarity_matrix.pkl\", \"wb\") as f:\n",
    "    pickle.dump(similarity_matrix, f)\n",
    "print(f\"💾 Matriks Kemiripan berhasil disimpan di: {MODELS_DIR / 'similarity_matrix.pkl'}\")"
   ]
  },
  {
   "cell_type": "markdown",
   "id": "2a170796",
   "metadata": {},
   "source": [
    "Validasi Cepat"
   ]
  },
  {
   "cell_type": "code",
   "execution_count": null,
   "id": "d880c93f",
   "metadata": {},
   "outputs": [],
   "source": [
    "# %% [markdown]\n",
    "# ## 6. Validasi Cepat\n",
    "# \n",
    "# Sebelum mengakhiri, mari kita lakukan tes sederhana untuk memastikan model kita memberikan rekomendasi yang masuk akal. Kita akan memilih satu destinasi dan melihat 5 destinasi lain yang paling mirip menurut model.\n",
    "\n",
    "# %%\n",
    "# ======================================================\n",
    "# 6️⃣ VALIDASI HASIL REKOMENDASI\n",
    "# ======================================================\n",
    "# Membuat DataFrame dari matriks kemiripan untuk kemudahan pembacaan\n",
    "cosine_sim_df = pd.DataFrame(similarity_matrix, index=df['nama_wisata'], columns=df['nama_wisata'])\n",
    "\n",
    "# --- Uji Coba Rekomendasi ---\n",
    "# Pilih satu nama wisata sebagai contoh\n",
    "nama_wisata_referensi = 'Pantai Papuma'\n",
    "\n",
    "print(f\"🎯 5 Destinasi paling mirip dengan '{nama_wisata_referensi}':\\n\")\n",
    "\n",
    "# Ambil 5 wisata paling mirip (skor tertinggi), dan hilangkan wisata itu sendiri dari hasil\n",
    "top_5_similar = cosine_sim_df[nama_wisata_referensi].sort_values(ascending=False)[1:6]\n",
    "\n",
    "# Tampilkan hasilnya\n",
    "display(top_5_similar)"
   ]
  }
 ],
 "metadata": {
  "kernelspec": {
   "display_name": "venv",
   "language": "python",
   "name": "python3"
  },
  "language_info": {
   "name": "python",
   "version": "3.11.9"
  }
 },
 "nbformat": 4,
 "nbformat_minor": 5
}
