{
 "cells": [
  {
   "cell_type": "markdown",
   "id": "c86b7ea3",
   "metadata": {},
   "source": [
    "IMPORT Library & Konfigurasi Path"
   ]
  },
  {
   "cell_type": "code",
   "execution_count": 1,
   "id": "c904cd3c",
   "metadata": {},
   "outputs": [
    {
     "name": "stdout",
     "output_type": "stream",
     "text": [
      "✅ Library dan path berhasil dikonfigurasi.\n"
     ]
    }
   ],
   "source": [
    "# %% [markdown]\n",
    "# # FASE 1: Eksplorasi dan Persiapan Data Wisata Jember\n",
    "# \n",
    "# **Tujuan:**\n",
    "# 1. Membaca dataset mentah (`destinasi_jember.csv`).\n",
    "# 2. Melakukan analisis data eksplorasi (EDA) singkat.\n",
    "# 3. Melakukan *feature engineering* dengan menggabungkan kolom teks.\n",
    "# 4. Membersihkan teks fitur.\n",
    "# 5. Menyimpan dataset yang sudah bersih dan siap pakai ke `data/processed/`.\n",
    "\n",
    "# %%\n",
    "# ======================================================\n",
    "# 1️⃣ IMPORT LIBRARY & KONFIGURASI PATH\n",
    "# ======================================================\n",
    "import pandas as pd\n",
    "import sys\n",
    "from pathlib import Path\n",
    "from tqdm import tqdm\n",
    "\n",
    "# Menambahkan direktori utama proyek ke path Python\n",
    "# Ini memastikan kita bisa mengimpor dari folder 'utils' dengan andal\n",
    "BASE_DIR = Path().resolve().parent\n",
    "if str(BASE_DIR) not in sys.path:\n",
    "    sys.path.append(str(BASE_DIR))\n",
    "\n",
    "from utils.text_preprocessing import clean_text\n",
    "\n",
    "# Menginisialisasi tqdm untuk integrasi dengan pandas (menampilkan progress bar)\n",
    "tqdm.pandas()\n",
    "\n",
    "print(\"✅ Library dan path berhasil dikonfigurasi.\")"
   ]
  },
  {
   "cell_type": "markdown",
   "id": "3a87bf9e",
   "metadata": {},
   "source": [
    "Memuat Dataset Mentah"
   ]
  },
  {
   "cell_type": "code",
   "execution_count": 13,
   "id": "099c186e",
   "metadata": {},
   "outputs": [
    {
     "name": "stdout",
     "output_type": "stream",
     "text": [
      "✅ Dataset berhasil dimuat dari 'destinasi_jember.csv'\n",
      "Jumlah baris: 55, Jumlah kolom: 7\n",
      "\n",
      "📋 Nama Kolom Dataset:\n",
      "['id', 'nama_wisata', 'kategori', 'kota', 'alamat', 'deskripsi', 'gambar']\n",
      "\n",
      "🔍 5 Baris Pertama:\n"
     ]
    },
    {
     "data": {
      "text/html": [
       "<div>\n",
       "<style scoped>\n",
       "    .dataframe tbody tr th:only-of-type {\n",
       "        vertical-align: middle;\n",
       "    }\n",
       "\n",
       "    .dataframe tbody tr th {\n",
       "        vertical-align: top;\n",
       "    }\n",
       "\n",
       "    .dataframe thead th {\n",
       "        text-align: right;\n",
       "    }\n",
       "</style>\n",
       "<table border=\"1\" class=\"dataframe\">\n",
       "  <thead>\n",
       "    <tr style=\"text-align: right;\">\n",
       "      <th></th>\n",
       "      <th>id</th>\n",
       "      <th>nama_wisata</th>\n",
       "      <th>kategori</th>\n",
       "      <th>kota</th>\n",
       "      <th>alamat</th>\n",
       "      <th>deskripsi</th>\n",
       "      <th>gambar</th>\n",
       "    </tr>\n",
       "  </thead>\n",
       "  <tbody>\n",
       "    <tr>\n",
       "      <th>0</th>\n",
       "      <td>1</td>\n",
       "      <td>Puncak Rembangan Resort</td>\n",
       "      <td>Rekreasi</td>\n",
       "      <td>Jember</td>\n",
       "      <td>Darungan, Kemuning Lor, Kec. Arjasa, Kabupaten...</td>\n",
       "      <td>Puncak Rembangan adalah destinasi wisata pegun...</td>\n",
       "      <td>assets/images/1.png</td>\n",
       "    </tr>\n",
       "    <tr>\n",
       "      <th>1</th>\n",
       "      <td>2</td>\n",
       "      <td>Pantai Watu Ulo</td>\n",
       "      <td>Pantai</td>\n",
       "      <td>Jember</td>\n",
       "      <td>Sumberrejo, Kec. Ambulu, Kabupaten Jember, Jaw...</td>\n",
       "      <td>Pantai Watu Ulo terkenal karena batu karang pa...</td>\n",
       "      <td>assets/images/2.png</td>\n",
       "    </tr>\n",
       "    <tr>\n",
       "      <th>2</th>\n",
       "      <td>3</td>\n",
       "      <td>Puslit Kopi &amp; Kakao Indonesia</td>\n",
       "      <td>Agrowisata</td>\n",
       "      <td>Jember</td>\n",
       "      <td>Puslitkoka Renteng, Gebang, Nogosari, Kec. Ram...</td>\n",
       "      <td>Pusat Penelitian Kopi dan Kakao (Puslitkoka) i...</td>\n",
       "      <td>assets/images/3.png</td>\n",
       "    </tr>\n",
       "    <tr>\n",
       "      <th>3</th>\n",
       "      <td>4</td>\n",
       "      <td>Bin Cigar</td>\n",
       "      <td>Edukasi</td>\n",
       "      <td>Jember</td>\n",
       "      <td>Jl. Brawijaya No.3, Krajan, Jubung, Kec. Sukor...</td>\n",
       "      <td>Bin Cigar adalah tempat edukasi/museum rokok/c...</td>\n",
       "      <td>assets/images/4.png</td>\n",
       "    </tr>\n",
       "    <tr>\n",
       "      <th>4</th>\n",
       "      <td>5</td>\n",
       "      <td>Makam Habib Soleh Tanggul</td>\n",
       "      <td>Religi</td>\n",
       "      <td>Jember</td>\n",
       "      <td>Krajan, Tanggul Kulon, Kec. Tanggul, Kabupaten...</td>\n",
       "      <td>Makam Habib Soleh Tanggul adalah situs religi ...</td>\n",
       "      <td>assets/images/5.png</td>\n",
       "    </tr>\n",
       "  </tbody>\n",
       "</table>\n",
       "</div>"
      ],
      "text/plain": [
       "   id                    nama_wisata    kategori    kota  \\\n",
       "0   1        Puncak Rembangan Resort    Rekreasi  Jember   \n",
       "1   2                Pantai Watu Ulo      Pantai  Jember   \n",
       "2   3  Puslit Kopi & Kakao Indonesia  Agrowisata  Jember   \n",
       "3   4                      Bin Cigar     Edukasi  Jember   \n",
       "4   5      Makam Habib Soleh Tanggul      Religi  Jember   \n",
       "\n",
       "                                              alamat  \\\n",
       "0  Darungan, Kemuning Lor, Kec. Arjasa, Kabupaten...   \n",
       "1  Sumberrejo, Kec. Ambulu, Kabupaten Jember, Jaw...   \n",
       "2  Puslitkoka Renteng, Gebang, Nogosari, Kec. Ram...   \n",
       "3  Jl. Brawijaya No.3, Krajan, Jubung, Kec. Sukor...   \n",
       "4  Krajan, Tanggul Kulon, Kec. Tanggul, Kabupaten...   \n",
       "\n",
       "                                           deskripsi               gambar  \n",
       "0  Puncak Rembangan adalah destinasi wisata pegun...  assets/images/1.png  \n",
       "1  Pantai Watu Ulo terkenal karena batu karang pa...  assets/images/2.png  \n",
       "2  Pusat Penelitian Kopi dan Kakao (Puslitkoka) i...  assets/images/3.png  \n",
       "3  Bin Cigar adalah tempat edukasi/museum rokok/c...  assets/images/4.png  \n",
       "4  Makam Habib Soleh Tanggul adalah situs religi ...  assets/images/5.png  "
      ]
     },
     "metadata": {},
     "output_type": "display_data"
    }
   ],
   "source": [
    "# %% [markdown]\n",
    "# ## 2. Memuat Dataset Mentah\n",
    "# \n",
    "# Membaca file `destinasi_jember.csv` dari folder `data/raw/` dengan metode yang paling andal.\n",
    "\n",
    "# %%\n",
    "# ======================================================\n",
    "# 2️⃣ MEMUAT DATASET MENTAH (VERSI PALING ANDAL)\n",
    "# ======================================================\n",
    "RAW_DATA_PATH = BASE_DIR / \"data\" / \"raw\" / \"destinasi_jember.csv\"\n",
    "\n",
    "try:\n",
    "    # ⭐ PERBAIKAN UTAMA: Menggunakan engine='python' yang lebih andal untuk CSV kompleks\n",
    "    # Mesin ini lebih pintar dalam menangani koma yang ada di dalam tanda kutip.\n",
    "    df = pd.read_csv(\n",
    "        RAW_DATA_PATH,\n",
    "        engine='python'\n",
    "    )\n",
    "\n",
    "    # Menghapus kolom kosong jika ada (jaring pengaman)\n",
    "    df = df.dropna(axis=1, how='all')\n",
    "\n",
    "    print(f\"✅ Dataset berhasil dimuat dari '{RAW_DATA_PATH.name}'\")\n",
    "    print(f\"Jumlah baris: {len(df)}, Jumlah kolom: {len(df.columns)}\")\n",
    "\n",
    "    print(\"\\n📋 Nama Kolom Dataset:\")\n",
    "    print(df.columns.tolist())\n",
    "\n",
    "    print(\"\\n🔍 5 Baris Pertama:\")\n",
    "    display(df.head()) # Menggunakan display() agar output di notebook lebih rapi\n",
    "\n",
    "except Exception as e:\n",
    "    print(f\"❌ Gagal membaca dataset: {e}\")"
   ]
  },
  {
   "cell_type": "markdown",
   "id": "9f91c747",
   "metadata": {},
   "source": [
    "Analisis Data Eksplorasi (EDA) Singkat"
   ]
  },
  {
   "cell_type": "code",
   "execution_count": null,
   "id": "bad48397",
   "metadata": {},
   "outputs": [],
   "source": [
    "# %% [markdown]\n",
    "# ## 3. Analisis Data Eksplorasi (EDA) Singkat\n",
    "# \n",
    "# Memahami struktur data, tipe kolom, dan memeriksa data yang hilang.\n",
    "\n",
    "# %%\n",
    "# ======================================================\n",
    "# 3️⃣ ANALISIS DATA EKSPLORASI (EDA)\n",
    "# ======================================================\n",
    "# Menampilkan informasi ringkas (tipe data, non-null counts)\n",
    "print(\"Informasi Dataset:\")\n",
    "df.info()\n",
    "\n",
    "print(\"\\nJumlah Nilai Kosong per Kolom:\")\n",
    "print(df.isnull().sum())"
   ]
  },
  {
   "cell_type": "markdown",
   "id": "f40c2433",
   "metadata": {},
   "source": [
    "Penanganan Nilai Kosong"
   ]
  },
  {
   "cell_type": "code",
   "execution_count": null,
   "id": "dc88df54",
   "metadata": {},
   "outputs": [],
   "source": [
    "# %% [markdown]\n",
    "# **Penanganan Nilai Kosong:**\n",
    "# \n",
    "# Sebelum menggabungkan kolom teks, kita perlu memastikan tidak ada nilai `NaN` (kosong) yang akan menyebabkan error. Kita akan mengisi nilai kosong di kolom teks dengan string kosong.\n",
    "\n",
    "# %%\n",
    "# ======================================================\n",
    "# 4️⃣ PENANGANAN NILAI KOSONG\n",
    "# ======================================================\n",
    "text_columns = ['nama_wisata', 'kategori', 'kota', 'alamat', 'deskripsi']\n",
    "for col in text_columns:\n",
    "    if col in df.columns:\n",
    "        df[col] = df[col].fillna('')\n",
    "\n",
    "print(\"✅ Nilai kosong pada kolom teks sudah ditangani.\")"
   ]
  },
  {
   "cell_type": "markdown",
   "id": "3774b452",
   "metadata": {},
   "source": [
    "Feature Engineering"
   ]
  },
  {
   "cell_type": "code",
   "execution_count": null,
   "id": "f9c4d19b",
   "metadata": {},
   "outputs": [],
   "source": [
    "# %% [markdown]\n",
    "# ## 5. Feature Engineering: Membuat Kolom \"Fitur\"\n",
    "# \n",
    "# Ini adalah langkah inti. Kita akan membuat satu kolom teks super (`fitur`) yang menjadi \"DNA\" dari setiap destinasi wisata. Semakin kaya DNA ini, semakin baik model rekomendasi kita.\n",
    "\n",
    "# %%\n",
    "# ======================================================\n",
    "# 5️⃣ FEATURE ENGINEERING\n",
    "# ======================================================\n",
    "# Menggabungkan semua kolom teks yang relevan.\n",
    "# Kita menggandakan 'kategori' dan 'nama_wisata' untuk memberikan bobot lebih pada kata kunci ini.\n",
    "df['fitur'] = (\n",
    "    df['nama_wisata'] + ' ' + \n",
    "    df['kategori'] + ' ' + \n",
    "    df['kategori'] + ' ' + # Memberi bobot lebih pada kategori\n",
    "    df['kota'] + ' ' + \n",
    "    df['alamat'] + ' ' + \n",
    "    df['deskripsi']\n",
    ")\n",
    "\n",
    "# Tampilkan hasilnya untuk melihat \"DNA\" yang baru dibuat\n",
    "print(\"Contoh kolom 'fitur' yang baru dibuat:\")\n",
    "pd.set_option('display.max_colwidth', 200) # Agar teks tidak terpotong\n",
    "df[['nama_wisata', 'fitur']].head()"
   ]
  },
  {
   "cell_type": "markdown",
   "id": "dfe5f9eb",
   "metadata": {},
   "source": [
    "Pembersihan Teks"
   ]
  },
  {
   "cell_type": "code",
   "execution_count": null,
   "id": "2d17e475",
   "metadata": {},
   "outputs": [],
   "source": [
    "# %% [markdown]\n",
    "# ## 6. Pembersihan Teks\n",
    "# \n",
    "# Menerapkan fungsi `clean_text` dari `utils` pada \"DNA\" teks di kolom `fitur`.\n",
    "\n",
    "# %%\n",
    "# ======================================================\n",
    "# 6️⃣ PEMBERSIHAN TEKS\n",
    "# ======================================================\n",
    "print(\"Memulai proses pembersihan teks (mungkin butuh beberapa saat)...\")\n",
    "\n",
    "# Menggunakan .progress_apply() dari tqdm untuk menampilkan progress bar.\n",
    "df['fitur_bersih'] = df['fitur'].progress_apply(clean_text)\n",
    "\n",
    "print(\"\\nContoh hasil pembersihan teks:\")\n",
    "df[['nama_wisata', 'fitur_bersih']].head()"
   ]
  },
  {
   "cell_type": "markdown",
   "id": "b2510014",
   "metadata": {},
   "source": [
    "Menyimpan Dataset yang Sudah Diproses"
   ]
  },
  {
   "cell_type": "code",
   "execution_count": null,
   "id": "e5fe921d",
   "metadata": {},
   "outputs": [],
   "source": [
    "# %% [markdown]\n",
    "# ## 7. Menyimpan Dataset yang Sudah Diproses\n",
    "# \n",
    "# Menyimpan DataFrame yang sudah bersih ini ke folder `data/processed/` untuk digunakan di Fase 2 (Pemodelan).\n",
    "\n",
    "# %%\n",
    "# ======================================================\n",
    "# 7️⃣ MENYIMPAN HASIL PROSES\n",
    "# ======================================================\n",
    "PROCESSED_DATA_PATH = BASE_DIR / \"data\" / \"processed\" / \"destinasi_processed.csv\"\n",
    "\n",
    "# Membuat folder 'processed' jika belum ada\n",
    "PROCESSED_DATA_PATH.parent.mkdir(parents=True, exist_ok=True)\n",
    "\n",
    "# Menyimpan ke CSV\n",
    "df.to_csv(PROCESSED_DATA_PATH, index=False)\n",
    "\n",
    "print(f\"🎉 Dataset yang sudah bersih berhasil disimpan di: '{PROCESSED_DATA_PATH}'\")"
   ]
  },
  {
   "cell_type": "markdown",
   "id": "dfe496f6",
   "metadata": {},
   "source": [
    "Validasi Akhir"
   ]
  },
  {
   "cell_type": "code",
   "execution_count": null,
   "id": "5550e046",
   "metadata": {},
   "outputs": [],
   "source": [
    "# %% [markdown]\n",
    "# ## 8. Validasi Akhir\n",
    "# \n",
    "# Memeriksa beberapa baris terakhir dari data yang sudah diproses untuk memastikan semuanya terlihat benar.\n",
    "\n",
    "# %%\n",
    "# ======================================================\n",
    "# 8️⃣ VALIDASI AKHIR\n",
    "# ======================================================\n",
    "# Tampilkan 5 baris terakhir dengan kolom-kolom kunci\n",
    "print(\"Pratinjau 5 data terakhir dari file yang sudah diproses:\")\n",
    "df[['id', 'nama_wisata', 'fitur_bersih', 'gambar']].tail()"
   ]
  }
 ],
 "metadata": {
  "kernelspec": {
   "display_name": "venv",
   "language": "python",
   "name": "python3"
  },
  "language_info": {
   "codemirror_mode": {
    "name": "ipython",
    "version": 3
   },
   "file_extension": ".py",
   "mimetype": "text/x-python",
   "name": "python",
   "nbconvert_exporter": "python",
   "pygments_lexer": "ipython3",
   "version": "3.11.9"
  }
 },
 "nbformat": 4,
 "nbformat_minor": 5
}
